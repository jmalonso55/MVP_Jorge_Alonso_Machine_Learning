{
  "nbformat": 4,
  "nbformat_minor": 0,
  "metadata": {
    "colab": {
      "provenance": [],
      "toc_visible": true,
      "authorship_tag": "ABX9TyMkSqGjZTaRTZETF/p9wSoC",
      "include_colab_link": true
    },
    "kernelspec": {
      "name": "python3",
      "display_name": "Python 3"
    },
    "language_info": {
      "name": "python"
    }
  },
  "cells": [
    {
      "cell_type": "markdown",
      "metadata": {
        "id": "view-in-github",
        "colab_type": "text"
      },
      "source": [
        "<a href=\"https://colab.research.google.com/github/jmalonso55/MVP_Jorge_Alonso_Machine_Learning/blob/main/Machine_learning_inventario_ES.ipynb\" target=\"_parent\"><img src=\"https://colab.research.google.com/assets/colab-badge.svg\" alt=\"Open In Colab\"/></a>"
      ]
    },
    {
      "cell_type": "markdown",
      "source": [
        "# **1 - Definição do problema**:"
      ],
      "metadata": {
        "id": "YAbdvi4tvmom"
      }
    },
    {
      "cell_type": "markdown",
      "source": [
        "Este script aborda o uso de métodos clássicos de Machine Learning para um problema de regressão e consiste em parte das análises realizadas para o MVP da Sprint II: Machine Learning & Analytics do curso de Especialização em Ciência de Dados e Analytics.\n",
        "\n",
        "As análises apresentadas dão sequência ao que foi feito na Sprint I do curso, em que foi feito o pré-processamento e as análises exploratórias e descritivas dos dados. O conteúdo da Sprint I pode ser acessado pelo link: https://github.com/jmalonso55/MVP_Jorge_Alonso_Analise_de_dados.\n",
        "\n",
        "A base de dados utilizada foi a do Inventário Florestal Nacional (IFN) para o estado do Espírito Santo (ES), disponibilizada publicamente no site do Serviço Florestal Brasileiro (SFB / MAPA). Como não há dados disponíveis para o estado do Rio de Janeiro, os dados do ES foram escolhidos como referência por ser vizinho ao RJ e apresentar fitofisionomias semelhantes (link de acesso: https://snif.florestal.gov.br/pt-br/inventario-florestal-nacional-ifn/ifn-dados-abertos/ifn-resultados-espirito-santo).\n",
        "\n",
        "O IFN é um levantamento feito pelo governo federal com a finalidade de produzir informações sobre os recursos florestais brasileiros, tendo cunho estratégico. Por outro lado, inventários florestais podem ser realizados com cunho tático para atender a demandas de empresas tais como conhecer a dinâmica de uma floresta e elaborar planos para seu manejo e exploração. Uma das demandas de empresas por inventários é para a obtenção de uma Autorização de Supressão Vegetal (ASV), visto que um dos documentos exigidos para a ASV é o inventário florestal e florístico da vegetação a ser suprimida. Esse é um procedimento muito comum na construção civil de empreendimentos imobiliários, industriais e outros.\n",
        "\n",
        "Diversas variáveis qualitativas e quantitativas podem ser mensuradas em um inventário florestal. Em geral, quanto mais variáveis forem mensuradas maior é o tempo gasto e maiores serão os custos para sua realização. Portanto, é do interesse das empresas a mensuração do menor número possível de variáveis que possam fornecer as informações necessárias para atender à sua demanda.\n",
        "\n",
        "O diâmetro à altura do peito (DAP) e a altura total são as principais variáveis quantitativas mensuradas em inventários florestais. Enquanto o DAP pode ser mensurado por meio de fita métrica, suta diâmetrica ou outros instrumentos de fácil operação, mensurar a altura é um procedimento mais complicado. Por exemplo, quando se utiliza vara graduada é muito difícil carregar a ferramenta em uma floresta fechada. Mesmo no caso de uma vara retrátil a operação é difícil e demorada devido a necessidade de abrir e fechar o equipamento na mata, além da dificuldade de visualizar o topo das árvores. Por isso, o procedimento mais comum é estimar a altura com hipsômetros que são aparelhos que utilizam princípios geométricos ou trigonométricos para obter a medida. Ainda assim, persistem as dificuldades como a de se visualizar o topo das árvores e a de encontrar uma distância horizontal conveniente para medição em uma floresta fechada.\n",
        "\n",
        "Visando atender à necessidade de empresas que realizam inventários florestais e florísticos para obtenção de ASV nos estados do Sudeste, o objetivo deste trabalho é testar métodos clássicos de Machine Learning para elaborar um modelo que permita estimar a altura de árvores a partir de outras variáveis mais fáceis de mensurar.\n",
        "\n",
        "Este seria um problema de aprendizado supervisionado da categoria regressão. Algumas hipóteses seriam:\n",
        "1) Existe relação da altura total com o diâmetro e outras variáveis fáceis de mensurar;\n",
        "2) É possível eliminar do dataset algumas variáveis redundantes ou menos representativas;\n",
        "3) É viável utilizar modelos de Machine Learning para estimar a altura total a partir de outras variáveis mais fáceis de medir.\n",
        "\n",
        "Quanto às restrições, o foco do projeto serão as áreas definidas pelo IFN como \"floresta típica secundária jovem\". Já que os inventários florestais e florísticos para supressão normalmente tem como objeto uma floresta natural em estágio secundário, ou seja, com certo nível de distúbio causado por atividade humana. Além disso, serão considerados apenas os dados coletados para árvores adultas (DAP > 10 cm), considerando que é mais difícil mensurar a altura total dessas árvores em uma floresta natural. Serão considerados apenas os dados de subunidades amostrais localizadas 100% em área de vegetação florestal, visando eliminar a influência de efeito de borda. Por fim, a análise descritiva realizada na Sprint I indicou que pela estatística convencional seria difícil elaborar um modelo que se ajustasse aos dados. Apesar disso, optou-se por utilizá-los como a finalidade didática de compreender o desempenho de algoritmos de Machine Learning perante a esses dados.\n",
        "\n",
        "As análises serão iniciadas a partir do conjunto de dados filtrados na Sprint I, que contém 1084 árvores e as seguintes variáveis: 1) UA - Unidade amostral; 2) SU - Subunidade; 3) SUBP - Subparcela; 4) DAP - diâmetro à altura do peito (1,30 m), em centímetros; 5) SA - estado de sanidade do fuste; 6) QF - qualidade do fuste; 7) PS - posição sociológica; 8) HT - altura total, em metros; 9) HF - altura do fuste, em metros."
      ],
      "metadata": {
        "id": "Pjc1fDm9mIu0"
      }
    },
    {
      "cell_type": "markdown",
      "source": [
        "# **2 - Carregamento de bibliotecas e dos dados**"
      ],
      "metadata": {
        "id": "3_4bSKPB0jf5"
      }
    },
    {
      "cell_type": "code",
      "source": [
        "# Carrega as bibliotecas utilizadas\n",
        "import pandas as pd\n",
        "import seaborn as sns\n",
        "import numpy as np\n",
        "import matplotlib.pyplot as plt\n",
        "import scipy.cluster.hierarchy as sch\n",
        "import scipy.spatial.distance as ssd\n",
        "from scipy.stats import shapiro\n",
        "from sklearn.model_selection import train_test_split\n",
        "from sklearn.preprocessing import MinMaxScaler\n",
        "from sklearn.model_selection import KFold # para preparar os folds da validação cruzada\n",
        "from sklearn.model_selection import cross_val_score # para executar a validação cruzada\n",
        "from sklearn.metrics import r2_score, mean_squared_error, mean_absolute_error # métrica de avaliação MSE\n",
        "from sklearn.linear_model import LinearRegression # algoritmo Regressão Linear\n",
        "from sklearn.linear_model import Ridge # algoritmo Regularização Ridge\n",
        "from sklearn.linear_model import Lasso # algoritmo Regularização Lasso\n",
        "from sklearn.neighbors import KNeighborsRegressor # algoritmo KNN\n",
        "from sklearn.tree import DecisionTreeRegressor # algoritmo Árvore de Regressão\n",
        "from sklearn.svm import SVR # algoritmo SVM\n"
      ],
      "metadata": {
        "id": "qs9Z5OyqmPMD"
      },
      "execution_count": null,
      "outputs": []
    },
    {
      "cell_type": "code",
      "source": [
        "# Importa do repositório no GitHub os dados do IFN no ES filtrados na Sprint 1\n",
        "url_dados = 'https://raw.githubusercontent.com/jmalonso55/MVP_Jorge_Alonso_Machine_Learning/main/dt_ES_filtro.csv'\n",
        "\n",
        "# Carrega o dataset por meio da url\n",
        "inv_es = pd.read_csv(url_dados, sep=\",\", decimal=\".\")"
      ],
      "metadata": {
        "id": "koItfeuemaqD"
      },
      "execution_count": null,
      "outputs": []
    },
    {
      "cell_type": "code",
      "source": [
        "# Inspeciona as primeiras linhas do dataset\n",
        "inv_es.head(10)"
      ],
      "metadata": {
        "colab": {
          "base_uri": "https://localhost:8080/",
          "height": 363
        },
        "id": "9fR9tljAmo8M",
        "outputId": "54ca2032-3710-47d0-d911-3d68a0980120"
      },
      "execution_count": null,
      "outputs": [
        {
          "output_type": "execute_result",
          "data": {
            "text/plain": [
              "   Unnamed: 0      UA  SU  SUBP   DAP  SA  QF  PS    HT   HF\n",
              "0           0  ES_101   4     1  11.6   1   2   2  11.0  6.5\n",
              "1           1  ES_101   4     1  11.2   1   2   3   9.0  6.0\n",
              "2           3  ES_101   4     1  14.3   1   2   2  12.0  6.0\n",
              "3           4  ES_101   4     1  14.3   2   2   2  15.0  7.0\n",
              "4           5  ES_101   4     1  11.9   1   3   2  12.0  4.0\n",
              "5           6  ES_101   4     1  11.9   3   3   3   3.0  2.0\n",
              "6           7  ES_101   4     1  10.1   3   3   3   2.5  1.7\n",
              "7           8  ES_101   4     1  13.3   1   2   2  12.0  7.0\n",
              "8           9  ES_101   4     2  10.5   1   2   3   7.5  5.0\n",
              "9          10  ES_101   4     2  15.5   2   2   3  10.0  7.0"
            ],
            "text/html": [
              "\n",
              "\n",
              "  <div id=\"df-ff9a0a7d-4f5d-4b49-9b56-74725c30f614\">\n",
              "    <div class=\"colab-df-container\">\n",
              "      <div>\n",
              "<style scoped>\n",
              "    .dataframe tbody tr th:only-of-type {\n",
              "        vertical-align: middle;\n",
              "    }\n",
              "\n",
              "    .dataframe tbody tr th {\n",
              "        vertical-align: top;\n",
              "    }\n",
              "\n",
              "    .dataframe thead th {\n",
              "        text-align: right;\n",
              "    }\n",
              "</style>\n",
              "<table border=\"1\" class=\"dataframe\">\n",
              "  <thead>\n",
              "    <tr style=\"text-align: right;\">\n",
              "      <th></th>\n",
              "      <th>Unnamed: 0</th>\n",
              "      <th>UA</th>\n",
              "      <th>SU</th>\n",
              "      <th>SUBP</th>\n",
              "      <th>DAP</th>\n",
              "      <th>SA</th>\n",
              "      <th>QF</th>\n",
              "      <th>PS</th>\n",
              "      <th>HT</th>\n",
              "      <th>HF</th>\n",
              "    </tr>\n",
              "  </thead>\n",
              "  <tbody>\n",
              "    <tr>\n",
              "      <th>0</th>\n",
              "      <td>0</td>\n",
              "      <td>ES_101</td>\n",
              "      <td>4</td>\n",
              "      <td>1</td>\n",
              "      <td>11.6</td>\n",
              "      <td>1</td>\n",
              "      <td>2</td>\n",
              "      <td>2</td>\n",
              "      <td>11.0</td>\n",
              "      <td>6.5</td>\n",
              "    </tr>\n",
              "    <tr>\n",
              "      <th>1</th>\n",
              "      <td>1</td>\n",
              "      <td>ES_101</td>\n",
              "      <td>4</td>\n",
              "      <td>1</td>\n",
              "      <td>11.2</td>\n",
              "      <td>1</td>\n",
              "      <td>2</td>\n",
              "      <td>3</td>\n",
              "      <td>9.0</td>\n",
              "      <td>6.0</td>\n",
              "    </tr>\n",
              "    <tr>\n",
              "      <th>2</th>\n",
              "      <td>3</td>\n",
              "      <td>ES_101</td>\n",
              "      <td>4</td>\n",
              "      <td>1</td>\n",
              "      <td>14.3</td>\n",
              "      <td>1</td>\n",
              "      <td>2</td>\n",
              "      <td>2</td>\n",
              "      <td>12.0</td>\n",
              "      <td>6.0</td>\n",
              "    </tr>\n",
              "    <tr>\n",
              "      <th>3</th>\n",
              "      <td>4</td>\n",
              "      <td>ES_101</td>\n",
              "      <td>4</td>\n",
              "      <td>1</td>\n",
              "      <td>14.3</td>\n",
              "      <td>2</td>\n",
              "      <td>2</td>\n",
              "      <td>2</td>\n",
              "      <td>15.0</td>\n",
              "      <td>7.0</td>\n",
              "    </tr>\n",
              "    <tr>\n",
              "      <th>4</th>\n",
              "      <td>5</td>\n",
              "      <td>ES_101</td>\n",
              "      <td>4</td>\n",
              "      <td>1</td>\n",
              "      <td>11.9</td>\n",
              "      <td>1</td>\n",
              "      <td>3</td>\n",
              "      <td>2</td>\n",
              "      <td>12.0</td>\n",
              "      <td>4.0</td>\n",
              "    </tr>\n",
              "    <tr>\n",
              "      <th>5</th>\n",
              "      <td>6</td>\n",
              "      <td>ES_101</td>\n",
              "      <td>4</td>\n",
              "      <td>1</td>\n",
              "      <td>11.9</td>\n",
              "      <td>3</td>\n",
              "      <td>3</td>\n",
              "      <td>3</td>\n",
              "      <td>3.0</td>\n",
              "      <td>2.0</td>\n",
              "    </tr>\n",
              "    <tr>\n",
              "      <th>6</th>\n",
              "      <td>7</td>\n",
              "      <td>ES_101</td>\n",
              "      <td>4</td>\n",
              "      <td>1</td>\n",
              "      <td>10.1</td>\n",
              "      <td>3</td>\n",
              "      <td>3</td>\n",
              "      <td>3</td>\n",
              "      <td>2.5</td>\n",
              "      <td>1.7</td>\n",
              "    </tr>\n",
              "    <tr>\n",
              "      <th>7</th>\n",
              "      <td>8</td>\n",
              "      <td>ES_101</td>\n",
              "      <td>4</td>\n",
              "      <td>1</td>\n",
              "      <td>13.3</td>\n",
              "      <td>1</td>\n",
              "      <td>2</td>\n",
              "      <td>2</td>\n",
              "      <td>12.0</td>\n",
              "      <td>7.0</td>\n",
              "    </tr>\n",
              "    <tr>\n",
              "      <th>8</th>\n",
              "      <td>9</td>\n",
              "      <td>ES_101</td>\n",
              "      <td>4</td>\n",
              "      <td>2</td>\n",
              "      <td>10.5</td>\n",
              "      <td>1</td>\n",
              "      <td>2</td>\n",
              "      <td>3</td>\n",
              "      <td>7.5</td>\n",
              "      <td>5.0</td>\n",
              "    </tr>\n",
              "    <tr>\n",
              "      <th>9</th>\n",
              "      <td>10</td>\n",
              "      <td>ES_101</td>\n",
              "      <td>4</td>\n",
              "      <td>2</td>\n",
              "      <td>15.5</td>\n",
              "      <td>2</td>\n",
              "      <td>2</td>\n",
              "      <td>3</td>\n",
              "      <td>10.0</td>\n",
              "      <td>7.0</td>\n",
              "    </tr>\n",
              "  </tbody>\n",
              "</table>\n",
              "</div>\n",
              "      <button class=\"colab-df-convert\" onclick=\"convertToInteractive('df-ff9a0a7d-4f5d-4b49-9b56-74725c30f614')\"\n",
              "              title=\"Convert this dataframe to an interactive table.\"\n",
              "              style=\"display:none;\">\n",
              "\n",
              "  <svg xmlns=\"http://www.w3.org/2000/svg\" height=\"24px\"viewBox=\"0 0 24 24\"\n",
              "       width=\"24px\">\n",
              "    <path d=\"M0 0h24v24H0V0z\" fill=\"none\"/>\n",
              "    <path d=\"M18.56 5.44l.94 2.06.94-2.06 2.06-.94-2.06-.94-.94-2.06-.94 2.06-2.06.94zm-11 1L8.5 8.5l.94-2.06 2.06-.94-2.06-.94L8.5 2.5l-.94 2.06-2.06.94zm10 10l.94 2.06.94-2.06 2.06-.94-2.06-.94-.94-2.06-.94 2.06-2.06.94z\"/><path d=\"M17.41 7.96l-1.37-1.37c-.4-.4-.92-.59-1.43-.59-.52 0-1.04.2-1.43.59L10.3 9.45l-7.72 7.72c-.78.78-.78 2.05 0 2.83L4 21.41c.39.39.9.59 1.41.59.51 0 1.02-.2 1.41-.59l7.78-7.78 2.81-2.81c.8-.78.8-2.07 0-2.86zM5.41 20L4 18.59l7.72-7.72 1.47 1.35L5.41 20z\"/>\n",
              "  </svg>\n",
              "      </button>\n",
              "\n",
              "\n",
              "\n",
              "    <div id=\"df-90f87868-5997-420c-86f0-8a61da60de58\">\n",
              "      <button class=\"colab-df-quickchart\" onclick=\"quickchart('df-90f87868-5997-420c-86f0-8a61da60de58')\"\n",
              "              title=\"Suggest charts.\"\n",
              "              style=\"display:none;\">\n",
              "\n",
              "<svg xmlns=\"http://www.w3.org/2000/svg\" height=\"24px\"viewBox=\"0 0 24 24\"\n",
              "     width=\"24px\">\n",
              "    <g>\n",
              "        <path d=\"M19 3H5c-1.1 0-2 .9-2 2v14c0 1.1.9 2 2 2h14c1.1 0 2-.9 2-2V5c0-1.1-.9-2-2-2zM9 17H7v-7h2v7zm4 0h-2V7h2v10zm4 0h-2v-4h2v4z\"/>\n",
              "    </g>\n",
              "</svg>\n",
              "      </button>\n",
              "    </div>\n",
              "\n",
              "<style>\n",
              "  .colab-df-quickchart {\n",
              "    background-color: #E8F0FE;\n",
              "    border: none;\n",
              "    border-radius: 50%;\n",
              "    cursor: pointer;\n",
              "    display: none;\n",
              "    fill: #1967D2;\n",
              "    height: 32px;\n",
              "    padding: 0 0 0 0;\n",
              "    width: 32px;\n",
              "  }\n",
              "\n",
              "  .colab-df-quickchart:hover {\n",
              "    background-color: #E2EBFA;\n",
              "    box-shadow: 0px 1px 2px rgba(60, 64, 67, 0.3), 0px 1px 3px 1px rgba(60, 64, 67, 0.15);\n",
              "    fill: #174EA6;\n",
              "  }\n",
              "\n",
              "  [theme=dark] .colab-df-quickchart {\n",
              "    background-color: #3B4455;\n",
              "    fill: #D2E3FC;\n",
              "  }\n",
              "\n",
              "  [theme=dark] .colab-df-quickchart:hover {\n",
              "    background-color: #434B5C;\n",
              "    box-shadow: 0px 1px 3px 1px rgba(0, 0, 0, 0.15);\n",
              "    filter: drop-shadow(0px 1px 2px rgba(0, 0, 0, 0.3));\n",
              "    fill: #FFFFFF;\n",
              "  }\n",
              "</style>\n",
              "\n",
              "    <script>\n",
              "      async function quickchart(key) {\n",
              "        const containerElement = document.querySelector('#' + key);\n",
              "        const charts = await google.colab.kernel.invokeFunction(\n",
              "            'suggestCharts', [key], {});\n",
              "      }\n",
              "    </script>\n",
              "\n",
              "      <script>\n",
              "\n",
              "function displayQuickchartButton(domScope) {\n",
              "  let quickchartButtonEl =\n",
              "    domScope.querySelector('#df-90f87868-5997-420c-86f0-8a61da60de58 button.colab-df-quickchart');\n",
              "  quickchartButtonEl.style.display =\n",
              "    google.colab.kernel.accessAllowed ? 'block' : 'none';\n",
              "}\n",
              "\n",
              "        displayQuickchartButton(document);\n",
              "      </script>\n",
              "      <style>\n",
              "    .colab-df-container {\n",
              "      display:flex;\n",
              "      flex-wrap:wrap;\n",
              "      gap: 12px;\n",
              "    }\n",
              "\n",
              "    .colab-df-convert {\n",
              "      background-color: #E8F0FE;\n",
              "      border: none;\n",
              "      border-radius: 50%;\n",
              "      cursor: pointer;\n",
              "      display: none;\n",
              "      fill: #1967D2;\n",
              "      height: 32px;\n",
              "      padding: 0 0 0 0;\n",
              "      width: 32px;\n",
              "    }\n",
              "\n",
              "    .colab-df-convert:hover {\n",
              "      background-color: #E2EBFA;\n",
              "      box-shadow: 0px 1px 2px rgba(60, 64, 67, 0.3), 0px 1px 3px 1px rgba(60, 64, 67, 0.15);\n",
              "      fill: #174EA6;\n",
              "    }\n",
              "\n",
              "    [theme=dark] .colab-df-convert {\n",
              "      background-color: #3B4455;\n",
              "      fill: #D2E3FC;\n",
              "    }\n",
              "\n",
              "    [theme=dark] .colab-df-convert:hover {\n",
              "      background-color: #434B5C;\n",
              "      box-shadow: 0px 1px 3px 1px rgba(0, 0, 0, 0.15);\n",
              "      filter: drop-shadow(0px 1px 2px rgba(0, 0, 0, 0.3));\n",
              "      fill: #FFFFFF;\n",
              "    }\n",
              "  </style>\n",
              "\n",
              "      <script>\n",
              "        const buttonEl =\n",
              "          document.querySelector('#df-ff9a0a7d-4f5d-4b49-9b56-74725c30f614 button.colab-df-convert');\n",
              "        buttonEl.style.display =\n",
              "          google.colab.kernel.accessAllowed ? 'block' : 'none';\n",
              "\n",
              "        async function convertToInteractive(key) {\n",
              "          const element = document.querySelector('#df-ff9a0a7d-4f5d-4b49-9b56-74725c30f614');\n",
              "          const dataTable =\n",
              "            await google.colab.kernel.invokeFunction('convertToInteractive',\n",
              "                                                     [key], {});\n",
              "          if (!dataTable) return;\n",
              "\n",
              "          const docLinkHtml = 'Like what you see? Visit the ' +\n",
              "            '<a target=\"_blank\" href=https://colab.research.google.com/notebooks/data_table.ipynb>data table notebook</a>'\n",
              "            + ' to learn more about interactive tables.';\n",
              "          element.innerHTML = '';\n",
              "          dataTable['output_type'] = 'display_data';\n",
              "          await google.colab.output.renderOutput(dataTable, element);\n",
              "          const docLink = document.createElement('div');\n",
              "          docLink.innerHTML = docLinkHtml;\n",
              "          element.appendChild(docLink);\n",
              "        }\n",
              "      </script>\n",
              "    </div>\n",
              "  </div>\n"
            ]
          },
          "metadata": {},
          "execution_count": 4
        }
      ]
    },
    {
      "cell_type": "code",
      "source": [
        "inv_es.shape"
      ],
      "metadata": {
        "colab": {
          "base_uri": "https://localhost:8080/"
        },
        "id": "pNMajl6suz1l",
        "outputId": "aa2e4511-e036-4886-b71b-7d09e38904cd"
      },
      "execution_count": null,
      "outputs": [
        {
          "output_type": "execute_result",
          "data": {
            "text/plain": [
              "(1084, 10)"
            ]
          },
          "metadata": {},
          "execution_count": 5
        }
      ]
    },
    {
      "cell_type": "markdown",
      "source": [
        "Confirmando o que foi dito na descrição, o dataset foi carregado corretamente com 1.084 instâncias (nº de indivíduos arbóreos observados) e 10 atributos (as variáveis mensuradas). Verifica-se uma coluna a mais que o previsto (Unnamed: 0) foi acrescentada ao salvar o data frame filtrado nas análises da Sprint anterior. De cara, essa variável e aquelas relacionadas às unidades amostrais e parcelas serão retiradas do dataset a ser avaliado."
      ],
      "metadata": {
        "id": "fkKMMBbC5Pc1"
      }
    },
    {
      "cell_type": "code",
      "source": [
        "# Verificando como foram carregadas as variáveis\n",
        "inv_es.dtypes"
      ],
      "metadata": {
        "colab": {
          "base_uri": "https://localhost:8080/"
        },
        "id": "0ZCw4guKtFmI",
        "outputId": "4bb82c16-f4cc-4603-f0b0-474eb71dedf0"
      },
      "execution_count": null,
      "outputs": [
        {
          "output_type": "execute_result",
          "data": {
            "text/plain": [
              "Unnamed: 0      int64\n",
              "UA             object\n",
              "SU              int64\n",
              "SUBP            int64\n",
              "DAP           float64\n",
              "SA              int64\n",
              "QF              int64\n",
              "PS              int64\n",
              "HT            float64\n",
              "HF            float64\n",
              "dtype: object"
            ]
          },
          "metadata": {},
          "execution_count": 6
        }
      ]
    },
    {
      "cell_type": "markdown",
      "source": [
        "Neste ponto é oportuno observar que algumas destas variáveis foram tabuladas como números inteiros (quantitativa discreta), mas na verdade são variáveis qualitativas. Por exemplo, a variável sanidade do fuste (SA), detalhada na sequência. A transformação para números inteiros considerou graus dentro de cada variável, por exemplo, para sanidade 1 significava fuste sano, 2 fuste pouco danificado, 3 fuste muito danificado e 4 árvore morta."
      ],
      "metadata": {
        "id": "guB8TXey54Af"
      }
    },
    {
      "cell_type": "code",
      "source": [
        "# Resumindo as variáveis de interesse\n",
        "inv_es[[\"DAP\", \"HT\", \"HF\", \"SA\", \"QF\", \"PS\"]].describe()"
      ],
      "metadata": {
        "colab": {
          "base_uri": "https://localhost:8080/",
          "height": 300
        },
        "id": "mHooX5j_tYNy",
        "outputId": "d197dfda-3532-4ad7-e16d-d123fab5806f"
      },
      "execution_count": null,
      "outputs": [
        {
          "output_type": "execute_result",
          "data": {
            "text/plain": [
              "               DAP           HT           HF           SA           QF  \\\n",
              "count  1084.000000  1084.000000  1084.000000  1084.000000  1084.000000   \n",
              "mean     14.365498     9.464114     5.708210     1.471402     2.265683   \n",
              "std       3.691365     3.402082     2.830636     0.653221     0.625322   \n",
              "min      10.000000     1.400000     1.300000     1.000000     1.000000   \n",
              "25%      11.475000     7.000000     3.500000     1.000000     2.000000   \n",
              "50%      13.300000     9.000000     5.000000     1.000000     2.000000   \n",
              "75%      16.400000    12.000000     8.000000     2.000000     3.000000   \n",
              "max      26.000000    19.500000    14.000000     3.000000     4.000000   \n",
              "\n",
              "                PS  \n",
              "count  1084.000000  \n",
              "mean      2.120849  \n",
              "std       0.717264  \n",
              "min       1.000000  \n",
              "25%       2.000000  \n",
              "50%       2.000000  \n",
              "75%       3.000000  \n",
              "max       3.000000  "
            ],
            "text/html": [
              "\n",
              "\n",
              "  <div id=\"df-4373120e-d9fe-44c1-8033-60e61c5c9bf8\">\n",
              "    <div class=\"colab-df-container\">\n",
              "      <div>\n",
              "<style scoped>\n",
              "    .dataframe tbody tr th:only-of-type {\n",
              "        vertical-align: middle;\n",
              "    }\n",
              "\n",
              "    .dataframe tbody tr th {\n",
              "        vertical-align: top;\n",
              "    }\n",
              "\n",
              "    .dataframe thead th {\n",
              "        text-align: right;\n",
              "    }\n",
              "</style>\n",
              "<table border=\"1\" class=\"dataframe\">\n",
              "  <thead>\n",
              "    <tr style=\"text-align: right;\">\n",
              "      <th></th>\n",
              "      <th>DAP</th>\n",
              "      <th>HT</th>\n",
              "      <th>HF</th>\n",
              "      <th>SA</th>\n",
              "      <th>QF</th>\n",
              "      <th>PS</th>\n",
              "    </tr>\n",
              "  </thead>\n",
              "  <tbody>\n",
              "    <tr>\n",
              "      <th>count</th>\n",
              "      <td>1084.000000</td>\n",
              "      <td>1084.000000</td>\n",
              "      <td>1084.000000</td>\n",
              "      <td>1084.000000</td>\n",
              "      <td>1084.000000</td>\n",
              "      <td>1084.000000</td>\n",
              "    </tr>\n",
              "    <tr>\n",
              "      <th>mean</th>\n",
              "      <td>14.365498</td>\n",
              "      <td>9.464114</td>\n",
              "      <td>5.708210</td>\n",
              "      <td>1.471402</td>\n",
              "      <td>2.265683</td>\n",
              "      <td>2.120849</td>\n",
              "    </tr>\n",
              "    <tr>\n",
              "      <th>std</th>\n",
              "      <td>3.691365</td>\n",
              "      <td>3.402082</td>\n",
              "      <td>2.830636</td>\n",
              "      <td>0.653221</td>\n",
              "      <td>0.625322</td>\n",
              "      <td>0.717264</td>\n",
              "    </tr>\n",
              "    <tr>\n",
              "      <th>min</th>\n",
              "      <td>10.000000</td>\n",
              "      <td>1.400000</td>\n",
              "      <td>1.300000</td>\n",
              "      <td>1.000000</td>\n",
              "      <td>1.000000</td>\n",
              "      <td>1.000000</td>\n",
              "    </tr>\n",
              "    <tr>\n",
              "      <th>25%</th>\n",
              "      <td>11.475000</td>\n",
              "      <td>7.000000</td>\n",
              "      <td>3.500000</td>\n",
              "      <td>1.000000</td>\n",
              "      <td>2.000000</td>\n",
              "      <td>2.000000</td>\n",
              "    </tr>\n",
              "    <tr>\n",
              "      <th>50%</th>\n",
              "      <td>13.300000</td>\n",
              "      <td>9.000000</td>\n",
              "      <td>5.000000</td>\n",
              "      <td>1.000000</td>\n",
              "      <td>2.000000</td>\n",
              "      <td>2.000000</td>\n",
              "    </tr>\n",
              "    <tr>\n",
              "      <th>75%</th>\n",
              "      <td>16.400000</td>\n",
              "      <td>12.000000</td>\n",
              "      <td>8.000000</td>\n",
              "      <td>2.000000</td>\n",
              "      <td>3.000000</td>\n",
              "      <td>3.000000</td>\n",
              "    </tr>\n",
              "    <tr>\n",
              "      <th>max</th>\n",
              "      <td>26.000000</td>\n",
              "      <td>19.500000</td>\n",
              "      <td>14.000000</td>\n",
              "      <td>3.000000</td>\n",
              "      <td>4.000000</td>\n",
              "      <td>3.000000</td>\n",
              "    </tr>\n",
              "  </tbody>\n",
              "</table>\n",
              "</div>\n",
              "      <button class=\"colab-df-convert\" onclick=\"convertToInteractive('df-4373120e-d9fe-44c1-8033-60e61c5c9bf8')\"\n",
              "              title=\"Convert this dataframe to an interactive table.\"\n",
              "              style=\"display:none;\">\n",
              "\n",
              "  <svg xmlns=\"http://www.w3.org/2000/svg\" height=\"24px\"viewBox=\"0 0 24 24\"\n",
              "       width=\"24px\">\n",
              "    <path d=\"M0 0h24v24H0V0z\" fill=\"none\"/>\n",
              "    <path d=\"M18.56 5.44l.94 2.06.94-2.06 2.06-.94-2.06-.94-.94-2.06-.94 2.06-2.06.94zm-11 1L8.5 8.5l.94-2.06 2.06-.94-2.06-.94L8.5 2.5l-.94 2.06-2.06.94zm10 10l.94 2.06.94-2.06 2.06-.94-2.06-.94-.94-2.06-.94 2.06-2.06.94z\"/><path d=\"M17.41 7.96l-1.37-1.37c-.4-.4-.92-.59-1.43-.59-.52 0-1.04.2-1.43.59L10.3 9.45l-7.72 7.72c-.78.78-.78 2.05 0 2.83L4 21.41c.39.39.9.59 1.41.59.51 0 1.02-.2 1.41-.59l7.78-7.78 2.81-2.81c.8-.78.8-2.07 0-2.86zM5.41 20L4 18.59l7.72-7.72 1.47 1.35L5.41 20z\"/>\n",
              "  </svg>\n",
              "      </button>\n",
              "\n",
              "\n",
              "\n",
              "    <div id=\"df-d9a91f82-fd49-4a49-875d-16defe65143f\">\n",
              "      <button class=\"colab-df-quickchart\" onclick=\"quickchart('df-d9a91f82-fd49-4a49-875d-16defe65143f')\"\n",
              "              title=\"Suggest charts.\"\n",
              "              style=\"display:none;\">\n",
              "\n",
              "<svg xmlns=\"http://www.w3.org/2000/svg\" height=\"24px\"viewBox=\"0 0 24 24\"\n",
              "     width=\"24px\">\n",
              "    <g>\n",
              "        <path d=\"M19 3H5c-1.1 0-2 .9-2 2v14c0 1.1.9 2 2 2h14c1.1 0 2-.9 2-2V5c0-1.1-.9-2-2-2zM9 17H7v-7h2v7zm4 0h-2V7h2v10zm4 0h-2v-4h2v4z\"/>\n",
              "    </g>\n",
              "</svg>\n",
              "      </button>\n",
              "    </div>\n",
              "\n",
              "<style>\n",
              "  .colab-df-quickchart {\n",
              "    background-color: #E8F0FE;\n",
              "    border: none;\n",
              "    border-radius: 50%;\n",
              "    cursor: pointer;\n",
              "    display: none;\n",
              "    fill: #1967D2;\n",
              "    height: 32px;\n",
              "    padding: 0 0 0 0;\n",
              "    width: 32px;\n",
              "  }\n",
              "\n",
              "  .colab-df-quickchart:hover {\n",
              "    background-color: #E2EBFA;\n",
              "    box-shadow: 0px 1px 2px rgba(60, 64, 67, 0.3), 0px 1px 3px 1px rgba(60, 64, 67, 0.15);\n",
              "    fill: #174EA6;\n",
              "  }\n",
              "\n",
              "  [theme=dark] .colab-df-quickchart {\n",
              "    background-color: #3B4455;\n",
              "    fill: #D2E3FC;\n",
              "  }\n",
              "\n",
              "  [theme=dark] .colab-df-quickchart:hover {\n",
              "    background-color: #434B5C;\n",
              "    box-shadow: 0px 1px 3px 1px rgba(0, 0, 0, 0.15);\n",
              "    filter: drop-shadow(0px 1px 2px rgba(0, 0, 0, 0.3));\n",
              "    fill: #FFFFFF;\n",
              "  }\n",
              "</style>\n",
              "\n",
              "    <script>\n",
              "      async function quickchart(key) {\n",
              "        const containerElement = document.querySelector('#' + key);\n",
              "        const charts = await google.colab.kernel.invokeFunction(\n",
              "            'suggestCharts', [key], {});\n",
              "      }\n",
              "    </script>\n",
              "\n",
              "      <script>\n",
              "\n",
              "function displayQuickchartButton(domScope) {\n",
              "  let quickchartButtonEl =\n",
              "    domScope.querySelector('#df-d9a91f82-fd49-4a49-875d-16defe65143f button.colab-df-quickchart');\n",
              "  quickchartButtonEl.style.display =\n",
              "    google.colab.kernel.accessAllowed ? 'block' : 'none';\n",
              "}\n",
              "\n",
              "        displayQuickchartButton(document);\n",
              "      </script>\n",
              "      <style>\n",
              "    .colab-df-container {\n",
              "      display:flex;\n",
              "      flex-wrap:wrap;\n",
              "      gap: 12px;\n",
              "    }\n",
              "\n",
              "    .colab-df-convert {\n",
              "      background-color: #E8F0FE;\n",
              "      border: none;\n",
              "      border-radius: 50%;\n",
              "      cursor: pointer;\n",
              "      display: none;\n",
              "      fill: #1967D2;\n",
              "      height: 32px;\n",
              "      padding: 0 0 0 0;\n",
              "      width: 32px;\n",
              "    }\n",
              "\n",
              "    .colab-df-convert:hover {\n",
              "      background-color: #E2EBFA;\n",
              "      box-shadow: 0px 1px 2px rgba(60, 64, 67, 0.3), 0px 1px 3px 1px rgba(60, 64, 67, 0.15);\n",
              "      fill: #174EA6;\n",
              "    }\n",
              "\n",
              "    [theme=dark] .colab-df-convert {\n",
              "      background-color: #3B4455;\n",
              "      fill: #D2E3FC;\n",
              "    }\n",
              "\n",
              "    [theme=dark] .colab-df-convert:hover {\n",
              "      background-color: #434B5C;\n",
              "      box-shadow: 0px 1px 3px 1px rgba(0, 0, 0, 0.15);\n",
              "      filter: drop-shadow(0px 1px 2px rgba(0, 0, 0, 0.3));\n",
              "      fill: #FFFFFF;\n",
              "    }\n",
              "  </style>\n",
              "\n",
              "      <script>\n",
              "        const buttonEl =\n",
              "          document.querySelector('#df-4373120e-d9fe-44c1-8033-60e61c5c9bf8 button.colab-df-convert');\n",
              "        buttonEl.style.display =\n",
              "          google.colab.kernel.accessAllowed ? 'block' : 'none';\n",
              "\n",
              "        async function convertToInteractive(key) {\n",
              "          const element = document.querySelector('#df-4373120e-d9fe-44c1-8033-60e61c5c9bf8');\n",
              "          const dataTable =\n",
              "            await google.colab.kernel.invokeFunction('convertToInteractive',\n",
              "                                                     [key], {});\n",
              "          if (!dataTable) return;\n",
              "\n",
              "          const docLinkHtml = 'Like what you see? Visit the ' +\n",
              "            '<a target=\"_blank\" href=https://colab.research.google.com/notebooks/data_table.ipynb>data table notebook</a>'\n",
              "            + ' to learn more about interactive tables.';\n",
              "          element.innerHTML = '';\n",
              "          dataTable['output_type'] = 'display_data';\n",
              "          await google.colab.output.renderOutput(dataTable, element);\n",
              "          const docLink = document.createElement('div');\n",
              "          docLink.innerHTML = docLinkHtml;\n",
              "          element.appendChild(docLink);\n",
              "        }\n",
              "      </script>\n",
              "    </div>\n",
              "  </div>\n"
            ]
          },
          "metadata": {},
          "execution_count": 8
        }
      ]
    },
    {
      "cell_type": "markdown",
      "source": [
        "Observa-se uma variação alta dos dados. Neste levantamento foram coletados dados em diferentes locais, florestas com diferentes idades, composição de espécies arbóreas etc."
      ],
      "metadata": {
        "id": "XlaLqsys6AwJ"
      }
    },
    {
      "cell_type": "markdown",
      "source": [
        "# **3 - Seleção de variáveis a serem utilizadas no modelo:**"
      ],
      "metadata": {
        "id": "FSP7KbcH6b0e"
      }
    },
    {
      "cell_type": "code",
      "source": [
        "# Visualização da matriz de correlação para as variáveis de interesse\n",
        "sns.heatmap(inv_es[[\"DAP\", \"HT\", \"HF\", \"SA\", \"QF\", \"PS\"]].corr(), annot=True, cmap='RdBu', vmin=-1, vmax=1)"
      ],
      "metadata": {
        "id": "dsxIXRlEqOeG",
        "colab": {
          "base_uri": "https://localhost:8080/",
          "height": 452
        },
        "outputId": "f2e39ade-c344-4ccc-b3aa-f93dedebfba8"
      },
      "execution_count": null,
      "outputs": [
        {
          "output_type": "execute_result",
          "data": {
            "text/plain": [
              "<Axes: >"
            ]
          },
          "metadata": {},
          "execution_count": 9
        },
        {
          "output_type": "display_data",
          "data": {
            "text/plain": [
              "<Figure size 640x480 with 2 Axes>"
            ],
            "image/png": "[encoded data removed]"
          },
          "metadata": {}
        }
      ]
    },
    {
      "cell_type": "markdown",
      "source": [
        "Observa-se que três variáveis possuem maior correlação com a altura total, a altura do fuste (positiva), o diâmetro (positiva) e a posição fitossociológica (negativa)."
      ],
      "metadata": {
        "id": "bCFlZBGl6XhZ"
      }
    },
    {
      "cell_type": "code",
      "source": [
        "# Gerando um dendrograma para as variáveis de interesse do conjunto de dados\n",
        "\n",
        "# Selecionando as colunas relevantes do para a análise\n",
        "selected_columns = inv_es.iloc[:, 4:10]\n",
        "\n",
        "# Calculando a matriz de correlação\n",
        "correlation_matrix = selected_columns.corr().values\n",
        "\n",
        "# Calculando a matriz de distâncias usando a distância euclidiana\n",
        "distance_matrix = np.sqrt((1 - correlation_matrix).round(5) / 2)\n",
        "\n",
        "# Convertendo a matriz de distâncias em uma matriz condensada\n",
        "condensed_distance_matrix = ssd.squareform(distance_matrix)\n",
        "\n",
        "# Agrupamento hierárquico com método \"ward\"\n",
        "Z = sch.linkage(condensed_distance_matrix, method='ward')\n",
        "\n",
        "# Plot do dendrograma\n",
        "plt.figure(figsize=(10, 6))\n",
        "sch.dendrogram(Z, labels=selected_columns.columns, leaf_rotation=90, leaf_font_size=12)\n",
        "plt.title('Dendrograma para as variáveis')\n",
        "plt.xlabel('Variáveis')\n",
        "plt.ylabel('Distância')\n",
        "plt.show()"
      ],
      "metadata": {
        "colab": {
          "base_uri": "https://localhost:8080/",
          "height": 585
        },
        "id": "Ez8_GanYurra",
        "outputId": "6e76c54e-18f6-4e0f-debc-3592966b60c7"
      },
      "execution_count": null,
      "outputs": [
        {
          "output_type": "display_data",
          "data": {
            "text/plain": [
              "<Figure size 1000x600 with 1 Axes>"
            ],
            "image/png": "[encoded data removed]"
          },
          "metadata": {}
        }
      ]
    },
    {
      "cell_type": "markdown",
      "source": [
        "Pelo dendrograma observa-se que existem dois grupos de variáveis e que essa divisão faz total sentido. De um lado se agrupam as variáveis mensuradas e do outro as variáveis relacionadas às características das árvores. Observa-se alguma redundância entre qualidade do fuste e sanidade e entre altura total e do fuste.\n",
        "\n",
        "A conclusão da análise descritiva feita na Sprint 1 previa que a altura do fuste seria a melhor variável para estimar a altura total. No entanto, mesmo sendo mais fácil de medir que a total, ainda assim essa é uma variável complicada.\n",
        "\n",
        "Sendo assim, optou-se por inicialmente testar modelos sem a altura do fuste. Além dela, também optou-se por retirar do conjunto de dados a variável qualidade do fuste, devido a sua baixa correlação com a altura total e certa redundância com a sanidade."
      ],
      "metadata": {
        "id": "MGRLmV9Q7Pnt"
      }
    },
    {
      "cell_type": "code",
      "source": [
        "# Retirando as colunas com variáveis que não serão utilizadas nas análises\n",
        "dados = inv_es.drop(['Unnamed: 0',\t'UA',\t'SU',\t'SUBP',\t'QF',\t'HF'], axis=1)\n",
        "\n",
        "# Verificando as dez primeiras linhas do dataframe após a operação\n",
        "dados.head(10)"
      ],
      "metadata": {
        "colab": {
          "base_uri": "https://localhost:8080/",
          "height": 363
        },
        "id": "xYbReRsQyExf",
        "outputId": "57fc1409-9d13-4319-cf2f-e883684254d9"
      },
      "execution_count": null,
      "outputs": [
        {
          "output_type": "execute_result",
          "data": {
            "text/plain": [
              "    DAP  SA  PS    HT\n",
              "0  11.6   1   2  11.0\n",
              "1  11.2   1   3   9.0\n",
              "2  14.3   1   2  12.0\n",
              "3  14.3   2   2  15.0\n",
              "4  11.9   1   2  12.0\n",
              "5  11.9   3   3   3.0\n",
              "6  10.1   3   3   2.5\n",
              "7  13.3   1   2  12.0\n",
              "8  10.5   1   3   7.5\n",
              "9  15.5   2   3  10.0"
            ],
            "text/html": [
              "\n",
              "\n",
              "  <div id=\"df-e345c9b6-aa98-409f-b770-f31eb951cf5a\">\n",
              "    <div class=\"colab-df-container\">\n",
              "      <div>\n",
              "<style scoped>\n",
              "    .dataframe tbody tr th:only-of-type {\n",
              "        vertical-align: middle;\n",
              "    }\n",
              "\n",
              "    .dataframe tbody tr th {\n",
              "        vertical-align: top;\n",
              "    }\n",
              "\n",
              "    .dataframe thead th {\n",
              "        text-align: right;\n",
              "    }\n",
              "</style>\n",
              "<table border=\"1\" class=\"dataframe\">\n",
              "  <thead>\n",
              "    <tr style=\"text-align: right;\">\n",
              "      <th></th>\n",
              "      <th>DAP</th>\n",
              "      <th>SA</th>\n",
              "      <th>PS</th>\n",
              "      <th>HT</th>\n",
              "    </tr>\n",
              "  </thead>\n",
              "  <tbody>\n",
              "    <tr>\n",
              "      <th>0</th>\n",
              "      <td>11.6</td>\n",
              "      <td>1</td>\n",
              "      <td>2</td>\n",
              "      <td>11.0</td>\n",
              "    </tr>\n",
              "    <tr>\n",
              "      <th>1</th>\n",
              "      <td>11.2</td>\n",
              "      <td>1</td>\n",
              "      <td>3</td>\n",
              "      <td>9.0</td>\n",
              "    </tr>\n",
              "    <tr>\n",
              "      <th>2</th>\n",
              "      <td>14.3</td>\n",
              "      <td>1</td>\n",
              "      <td>2</td>\n",
              "      <td>12.0</td>\n",
              "    </tr>\n",
              "    <tr>\n",
              "      <th>3</th>\n",
              "      <td>14.3</td>\n",
              "      <td>2</td>\n",
              "      <td>2</td>\n",
              "      <td>15.0</td>\n",
              "    </tr>\n",
              "    <tr>\n",
              "      <th>4</th>\n",
              "      <td>11.9</td>\n",
              "      <td>1</td>\n",
              "      <td>2</td>\n",
              "      <td>12.0</td>\n",
              "    </tr>\n",
              "    <tr>\n",
              "      <th>5</th>\n",
              "      <td>11.9</td>\n",
              "      <td>3</td>\n",
              "      <td>3</td>\n",
              "      <td>3.0</td>\n",
              "    </tr>\n",
              "    <tr>\n",
              "      <th>6</th>\n",
              "      <td>10.1</td>\n",
              "      <td>3</td>\n",
              "      <td>3</td>\n",
              "      <td>2.5</td>\n",
              "    </tr>\n",
              "    <tr>\n",
              "      <th>7</th>\n",
              "      <td>13.3</td>\n",
              "      <td>1</td>\n",
              "      <td>2</td>\n",
              "      <td>12.0</td>\n",
              "    </tr>\n",
              "    <tr>\n",
              "      <th>8</th>\n",
              "      <td>10.5</td>\n",
              "      <td>1</td>\n",
              "      <td>3</td>\n",
              "      <td>7.5</td>\n",
              "    </tr>\n",
              "    <tr>\n",
              "      <th>9</th>\n",
              "      <td>15.5</td>\n",
              "      <td>2</td>\n",
              "      <td>3</td>\n",
              "      <td>10.0</td>\n",
              "    </tr>\n",
              "  </tbody>\n",
              "</table>\n",
              "</div>\n",
              "      <button class=\"colab-df-convert\" onclick=\"convertToInteractive('df-e345c9b6-aa98-409f-b770-f31eb951cf5a')\"\n",
              "              title=\"Convert this dataframe to an interactive table.\"\n",
              "              style=\"display:none;\">\n",
              "\n",
              "  <svg xmlns=\"http://www.w3.org/2000/svg\" height=\"24px\"viewBox=\"0 0 24 24\"\n",
              "       width=\"24px\">\n",
              "    <path d=\"M0 0h24v24H0V0z\" fill=\"none\"/>\n",
              "    <path d=\"M18.56 5.44l.94 2.06.94-2.06 2.06-.94-2.06-.94-.94-2.06-.94 2.06-2.06.94zm-11 1L8.5 8.5l.94-2.06 2.06-.94-2.06-.94L8.5 2.5l-.94 2.06-2.06.94zm10 10l.94 2.06.94-2.06 2.06-.94-2.06-.94-.94-2.06-.94 2.06-2.06.94z\"/><path d=\"M17.41 7.96l-1.37-1.37c-.4-.4-.92-.59-1.43-.59-.52 0-1.04.2-1.43.59L10.3 9.45l-7.72 7.72c-.78.78-.78 2.05 0 2.83L4 21.41c.39.39.9.59 1.41.59.51 0 1.02-.2 1.41-.59l7.78-7.78 2.81-2.81c.8-.78.8-2.07 0-2.86zM5.41 20L4 18.59l7.72-7.72 1.47 1.35L5.41 20z\"/>\n",
              "  </svg>\n",
              "      </button>\n",
              "\n",
              "\n",
              "\n",
              "    <div id=\"df-add4a06b-db3b-4155-8bdf-4854f1c6e708\">\n",
              "      <button class=\"colab-df-quickchart\" onclick=\"quickchart('df-add4a06b-db3b-4155-8bdf-4854f1c6e708')\"\n",
              "              title=\"Suggest charts.\"\n",
              "              style=\"display:none;\">\n",
              "\n",
              "<svg xmlns=\"http://www.w3.org/2000/svg\" height=\"24px\"viewBox=\"0 0 24 24\"\n",
              "     width=\"24px\">\n",
              "    <g>\n",
              "        <path d=\"M19 3H5c-1.1 0-2 .9-2 2v14c0 1.1.9 2 2 2h14c1.1 0 2-.9 2-2V5c0-1.1-.9-2-2-2zM9 17H7v-7h2v7zm4 0h-2V7h2v10zm4 0h-2v-4h2v4z\"/>\n",
              "    </g>\n",
              "</svg>\n",
              "      </button>\n",
              "    </div>\n",
              "\n",
              "<style>\n",
              "  .colab-df-quickchart {\n",
              "    background-color: #E8F0FE;\n",
              "    border: none;\n",
              "    border-radius: 50%;\n",
              "    cursor: pointer;\n",
              "    display: none;\n",
              "    fill: #1967D2;\n",
              "    height: 32px;\n",
              "    padding: 0 0 0 0;\n",
              "    width: 32px;\n",
              "  }\n",
              "\n",
              "  .colab-df-quickchart:hover {\n",
              "    background-color: #E2EBFA;\n",
              "    box-shadow: 0px 1px 2px rgba(60, 64, 67, 0.3), 0px 1px 3px 1px rgba(60, 64, 67, 0.15);\n",
              "    fill: #174EA6;\n",
              "  }\n",
              "\n",
              "  [theme=dark] .colab-df-quickchart {\n",
              "    background-color: #3B4455;\n",
              "    fill: #D2E3FC;\n",
              "  }\n",
              "\n",
              "  [theme=dark] .colab-df-quickchart:hover {\n",
              "    background-color: #434B5C;\n",
              "    box-shadow: 0px 1px 3px 1px rgba(0, 0, 0, 0.15);\n",
              "    filter: drop-shadow(0px 1px 2px rgba(0, 0, 0, 0.3));\n",
              "    fill: #FFFFFF;\n",
              "  }\n",
              "</style>\n",
              "\n",
              "    <script>\n",
              "      async function quickchart(key) {\n",
              "        const containerElement = document.querySelector('#' + key);\n",
              "        const charts = await google.colab.kernel.invokeFunction(\n",
              "            'suggestCharts', [key], {});\n",
              "      }\n",
              "    </script>\n",
              "\n",
              "      <script>\n",
              "\n",
              "function displayQuickchartButton(domScope) {\n",
              "  let quickchartButtonEl =\n",
              "    domScope.querySelector('#df-add4a06b-db3b-4155-8bdf-4854f1c6e708 button.colab-df-quickchart');\n",
              "  quickchartButtonEl.style.display =\n",
              "    google.colab.kernel.accessAllowed ? 'block' : 'none';\n",
              "}\n",
              "\n",
              "        displayQuickchartButton(document);\n",
              "      </script>\n",
              "      <style>\n",
              "    .colab-df-container {\n",
              "      display:flex;\n",
              "      flex-wrap:wrap;\n",
              "      gap: 12px;\n",
              "    }\n",
              "\n",
              "    .colab-df-convert {\n",
              "      background-color: #E8F0FE;\n",
              "      border: none;\n",
              "      border-radius: 50%;\n",
              "      cursor: pointer;\n",
              "      display: none;\n",
              "      fill: #1967D2;\n",
              "      height: 32px;\n",
              "      padding: 0 0 0 0;\n",
              "      width: 32px;\n",
              "    }\n",
              "\n",
              "    .colab-df-convert:hover {\n",
              "      background-color: #E2EBFA;\n",
              "      box-shadow: 0px 1px 2px rgba(60, 64, 67, 0.3), 0px 1px 3px 1px rgba(60, 64, 67, 0.15);\n",
              "      fill: #174EA6;\n",
              "    }\n",
              "\n",
              "    [theme=dark] .colab-df-convert {\n",
              "      background-color: #3B4455;\n",
              "      fill: #D2E3FC;\n",
              "    }\n",
              "\n",
              "    [theme=dark] .colab-df-convert:hover {\n",
              "      background-color: #434B5C;\n",
              "      box-shadow: 0px 1px 3px 1px rgba(0, 0, 0, 0.15);\n",
              "      filter: drop-shadow(0px 1px 2px rgba(0, 0, 0, 0.3));\n",
              "      fill: #FFFFFF;\n",
              "    }\n",
              "  </style>\n",
              "\n",
              "      <script>\n",
              "        const buttonEl =\n",
              "          document.querySelector('#df-e345c9b6-aa98-409f-b770-f31eb951cf5a button.colab-df-convert');\n",
              "        buttonEl.style.display =\n",
              "          google.colab.kernel.accessAllowed ? 'block' : 'none';\n",
              "\n",
              "        async function convertToInteractive(key) {\n",
              "          const element = document.querySelector('#df-e345c9b6-aa98-409f-b770-f31eb951cf5a');\n",
              "          const dataTable =\n",
              "            await google.colab.kernel.invokeFunction('convertToInteractive',\n",
              "                                                     [key], {});\n",
              "          if (!dataTable) return;\n",
              "\n",
              "          const docLinkHtml = 'Like what you see? Visit the ' +\n",
              "            '<a target=\"_blank\" href=https://colab.research.google.com/notebooks/data_table.ipynb>data table notebook</a>'\n",
              "            + ' to learn more about interactive tables.';\n",
              "          element.innerHTML = '';\n",
              "          dataTable['output_type'] = 'display_data';\n",
              "          await google.colab.output.renderOutput(dataTable, element);\n",
              "          const docLink = document.createElement('div');\n",
              "          docLink.innerHTML = docLinkHtml;\n",
              "          element.appendChild(docLink);\n",
              "        }\n",
              "      </script>\n",
              "    </div>\n",
              "  </div>\n"
            ]
          },
          "metadata": {},
          "execution_count": 11
        }
      ]
    },
    {
      "cell_type": "markdown",
      "source": [
        "# **4 - Divisão do conjunto de dados em treino e teste**"
      ],
      "metadata": {
        "id": "25oxa3sQ-4mg"
      }
    },
    {
      "cell_type": "markdown",
      "source": [
        "# 4.1 - Sem validação cruzada"
      ],
      "metadata": {
        "id": "2yVjy9tO_OmW"
      }
    },
    {
      "cell_type": "code",
      "source": [
        "# Dividindo o dataset em treino e teste\n",
        "X_train, X_test, y_train, y_test = train_test_split(\n",
        "    dados[['DAP', 'SA', 'PS']], dados['HT'], test_size=0.20, random_state=0)"
      ],
      "metadata": {
        "id": "0rtxr41YyQR0"
      },
      "execution_count": null,
      "outputs": []
    },
    {
      "cell_type": "markdown",
      "source": [
        "Foi realizada a divisão do conjunto de dados em treino e teste. Decidiu-se por dividir o conjunto em 80% dos dados para treino e 20% para teste. Neste primeiro momento, não será utilizada a validação cruzada."
      ],
      "metadata": {
        "id": "gWKgRxLU3FeI"
      }
    },
    {
      "cell_type": "code",
      "source": [
        "# Lista das variáveis que se deseja testar\n",
        "vars_to_test = ['DAP', 'HT', 'SA', 'PS']\n",
        "\n",
        "# Teste de normalidade para cada variável\n",
        "for var in vars_to_test:\n",
        "    stat, p = shapiro(dados[var])\n",
        "    print(f'{var}: Estatística de teste = {stat:.3f}, p-valor = {p:.3f}')"
      ],
      "metadata": {
        "colab": {
          "base_uri": "https://localhost:8080/"
        },
        "id": "HUwVQFN11LsA",
        "outputId": "f5d070f1-74f1-4211-ffaa-4356d9c0b9c8"
      },
      "execution_count": null,
      "outputs": [
        {
          "output_type": "stream",
          "name": "stdout",
          "text": [
            "DAP: Estatística de teste = 0.897, p-valor = 0.000\n",
            "HT: Estatística de teste = 0.977, p-valor = 0.000\n",
            "SA: Estatística de teste = 0.689, p-valor = 0.000\n",
            "PS: Estatística de teste = 0.804, p-valor = 0.000\n"
          ]
        }
      ]
    },
    {
      "cell_type": "markdown",
      "source": [
        "Observa-se que nenhuma das variáveis apresenta distribuição normal. Portanto, é melhor realizar a normalização dos dados ao invés da padronização."
      ],
      "metadata": {
        "id": "liEOelvU6V7o"
      }
    },
    {
      "cell_type": "code",
      "source": [
        "# Normalizando os dados de treino\n",
        "scaler = MinMaxScaler()\n",
        "X_train_norm = scaler.fit_transform(X_train)\n",
        "\n",
        "# Normalizando os dados de teste utilizando os valores máximos e mínimos dos dados de treino\n",
        "X_test_norm = scaler.transform(X_test)\n",
        "\n",
        "# Convertendo os dados normalizados de array para um dataframe\n",
        "X_train_df = pd.DataFrame(X_train_norm , columns=['DAP_t', 'SA_t', 'PS_t'])\n",
        "X_test_df = pd.DataFrame(X_test_norm , columns=['DAP_t', 'SA_t', 'PS_t'])\n",
        "\n",
        "# Imprimindo as primeiras linhas para conferir\n",
        "print(X_train_df.head())\n",
        "print(X_test_df.head())"
      ],
      "metadata": {
        "colab": {
          "base_uri": "https://localhost:8080/"
        },
        "id": "XCq0_dmC1RNj",
        "outputId": "347510fa-2c41-4b67-a7fa-bf1fa2d3f7cb"
      },
      "execution_count": null,
      "outputs": [
        {
          "output_type": "stream",
          "name": "stdout",
          "text": [
            "     DAP_t  SA_t  PS_t\n",
            "0  0.36875   1.0   1.0\n",
            "1  0.93125   0.5   0.5\n",
            "2  0.09375   0.0   1.0\n",
            "3  0.05000   0.5   1.0\n",
            "4  0.07500   0.0   0.5\n",
            "     DAP_t  SA_t  PS_t\n",
            "0  0.25000   0.0   1.0\n",
            "1  0.38750   0.5   0.5\n",
            "2  0.64375   0.0   0.0\n",
            "3  0.23750   0.0   1.0\n",
            "4  0.03125   0.0   1.0\n"
          ]
        }
      ]
    },
    {
      "cell_type": "markdown",
      "source": [
        "\n",
        "Na sequência foi realizada a normalização dos dados de treino e teste das variáveis explicativas. Foi feita cópia dos dados antes da normalização para que na etapa de modelagem possa ser testada a utilização dos dados com e sem transformação.\n",
        "\n",
        "Os dados foram convertidos em data frame para gerar a visualização abaixo."
      ],
      "metadata": {
        "id": "6N9c3VbM18KF"
      }
    },
    {
      "cell_type": "code",
      "source": [
        "# Modelagem sem valiadação cruzada e com os dados não normalizados\n",
        "\n",
        "# Listas para armazenar os modelos, os resultados e os nomes dos modelos\n",
        "models = []\n",
        "results = []\n",
        "names = []\n",
        "\n",
        "# Preparando os modelos e adicionando-os em uma lista\n",
        "models.append(('LR', LinearRegression()))\n",
        "models.append(('Ridge', Ridge()))\n",
        "models.append(('Lasso', Lasso()))\n",
        "models.append(('KNN', KNeighborsRegressor()))\n",
        "models.append(('CART', DecisionTreeRegressor()))\n",
        "models.append(('SVM', SVR()))\n",
        "\n",
        "for name, model in models:\n",
        "    model.fit(X_train, y_train)\n",
        "    y_pred = model.predict(X_test)\n",
        "    mse = mean_squared_error(y_test, y_pred)\n",
        "    results.append(mse)\n",
        "    names.append(name)\n",
        "    rmse = np.sqrt(mse)\n",
        "    r2 = r2_score(y_test, y_pred)\n",
        "    mae = mean_absolute_error(y_test, y_pred)\n",
        "    msg = \"%s: MSE %0.2f - RMSE %0.2f - R² %0.2f - MAE %0.2f\" % (name, mse, rmse, r2, mae)\n",
        "    print(msg)"
      ],
      "metadata": {
        "colab": {
          "base_uri": "https://localhost:8080/"
        },
        "id": "N0sgGjBh4aB2",
        "outputId": "9453dd4e-c08b-4bbe-cb79-3bee547b4ec0"
      },
      "execution_count": null,
      "outputs": [
        {
          "output_type": "stream",
          "name": "stdout",
          "text": [
            "LR: MSE 6.44 - RMSE 2.54 - R² 0.44 - MAE 2.04\n",
            "Ridge: MSE 6.44 - RMSE 2.54 - R² 0.44 - MAE 2.04\n",
            "Lasso: MSE 8.84 - RMSE 2.97 - R² 0.23 - MAE 2.43\n",
            "KNN: MSE 6.82 - RMSE 2.61 - R² 0.41 - MAE 2.01\n",
            "CART: MSE 9.90 - RMSE 3.15 - R² 0.14 - MAE 2.36\n",
            "SVM: MSE 6.56 - RMSE 2.56 - R² 0.43 - MAE 2.09\n"
          ]
        }
      ]
    },
    {
      "cell_type": "markdown",
      "source": [
        "No geral os modelos apresentaram um desempenho ruim com os dados originais, com erro alto e um coeficiente de determinação (R²) baixo, demonstrando que todos os modelos foram capazes de explicar pouco a variação dos dados.\n",
        "\n",
        "Os modelos linear e Ridge obtiveram o melhor resultado. O resultado praticamente igual desses modelos pode ser explicado pelo fato de eles serem muito parecidos, já que a regressão Ridge consiste na regressão linear com um pequeno viés adicionado para o cálculo dos coeficientes."
      ],
      "metadata": {
        "id": "KW3DRy1_FzPR"
      }
    },
    {
      "cell_type": "code",
      "source": [
        "# Modelagem sem valiadação cruzada e com os dados normalizados\n",
        "\n",
        "# Listas para armazenar os modelos, os resultados e os nomes dos modelos\n",
        "models = []\n",
        "results = []\n",
        "names = []\n",
        "\n",
        "# Preparando os modelos e adicionando-os em uma lista\n",
        "models.append(('LR', LinearRegression()))\n",
        "models.append(('Ridge', Ridge()))\n",
        "models.append(('Lasso', Lasso()))\n",
        "models.append(('KNN', KNeighborsRegressor()))\n",
        "models.append(('CART', DecisionTreeRegressor()))\n",
        "models.append(('SVM', SVR()))\n",
        "\n",
        "for name, model in models:\n",
        "    model.fit(X_train_df, y_train)\n",
        "    y_pred = model.predict(X_test_df)\n",
        "    mse = mean_squared_error(y_test, y_pred)\n",
        "    results.append(mse)\n",
        "    names.append(name)\n",
        "    rmse = np.sqrt(mse)\n",
        "    r2 = r2_score(y_test, y_pred)\n",
        "    mae = mean_absolute_error(y_test, y_pred)\n",
        "    msg = \"%s: MSE %0.2f - RMSE %0.2f - R² %0.2f - MAE %0.2f\" % (name, mse, rmse, r2, mae)\n",
        "    print(msg)"
      ],
      "metadata": {
        "colab": {
          "base_uri": "https://localhost:8080/"
        },
        "id": "0CE481lZD4JX",
        "outputId": "e1cfe606-661b-43f1-fae6-3cc29b5a8f53"
      },
      "execution_count": null,
      "outputs": [
        {
          "output_type": "stream",
          "name": "stdout",
          "text": [
            "LR: MSE 6.44 - RMSE 2.54 - R² 0.44 - MAE 2.04\n",
            "Ridge: MSE 6.44 - RMSE 2.54 - R² 0.44 - MAE 2.05\n",
            "Lasso: MSE 11.54 - RMSE 3.40 - R² -0.00 - MAE 2.77\n",
            "KNN: MSE 6.66 - RMSE 2.58 - R² 0.42 - MAE 1.98\n",
            "CART: MSE 9.57 - RMSE 3.09 - R² 0.17 - MAE 2.34\n",
            "SVM: MSE 6.18 - RMSE 2.49 - R² 0.46 - MAE 1.95\n"
          ]
        }
      ]
    },
    {
      "cell_type": "markdown",
      "source": [
        "Mesmo com os dados normalizados, o desempenho do modelo foi ruim. A principal mudança entre as análises foi que nesta, o melhor modelo foi o SVM, apresentando um erro menor que os modelos linear e Ridge sem normalização."
      ],
      "metadata": {
        "id": "CVyvOFG6MET7"
      }
    },
    {
      "cell_type": "markdown",
      "source": [
        "# 4.2 - Com validação cruzada"
      ],
      "metadata": {
        "id": "vFl75X_u_Vct"
      }
    },
    {
      "cell_type": "code",
      "source": [
        "# Preparação dos dados para validação cruzada\n",
        "\n",
        "# Separação em bases de treino e teste (holdout)\n",
        "array = dados.values\n",
        "X = array[:,0:2] # atributos\n",
        "y = array[:,3] # resposta (target)\n",
        "\n",
        "X_train, X_test, y_train, y_test = train_test_split(X, y, test_size=0.20, random_state=7) # faz a divisão\n",
        "\n",
        "# Criando os folds para a validação cruzada\n",
        "num_particoes = 10 # número de folds da validação cruzada\n",
        "kfold = KFold(n_splits=num_particoes, shuffle=True, random_state=7) # faz o particionamento em 10 folds"
      ],
      "metadata": {
        "id": "rMSNth42YNDE"
      },
      "execution_count": null,
      "outputs": []
    },
    {
      "cell_type": "code",
      "source": [
        "# Modelagem com validação cruzada e valores não normalizados\n",
        "\n",
        "# Definindo uma seed global para esta célula de código\n",
        "np.random.seed(7)\n",
        "\n",
        "# Listas para armazenar os modelos, os resultados e os nomes dos modelos\n",
        "models = []\n",
        "results = []\n",
        "names = []\n",
        "\n",
        "# Preparando os modelos e adicionando-os em uma lista\n",
        "models.append(('LR', LinearRegression()))\n",
        "models.append(('Ridge', Ridge()))\n",
        "models.append(('Lasso', Lasso()))\n",
        "models.append(('KNN', KNeighborsRegressor()))\n",
        "models.append(('CART', DecisionTreeRegressor()))\n",
        "models.append(('SVM', SVR()))\n",
        "\n",
        "# Avaliando um modelo por vez\n",
        "for name, model in models:\n",
        "  cv_results = cross_val_score(model, X_train, y_train, cv=kfold, scoring='neg_mean_squared_error')\n",
        "  results.append(cv_results)\n",
        "  names.append(name)\n",
        "  # imprime MSE, desvio padrão do MSE e RMSE dos 10 resultados da validação cruzada\n",
        "  msg = \"%s: MSE %0.2f (%0.2f) - RMSE %0.2f\" % (name, abs(cv_results.mean()), cv_results.std(), np.sqrt(abs(cv_results.mean())))\n",
        "  print(msg)\n",
        "\n",
        "# Boxplot de comparação dos modelos\n",
        "fig = plt.figure()\n",
        "fig.suptitle('Comparação do MSE dos Modelos')\n",
        "ax = fig.add_subplot(111)\n",
        "plt.boxplot(results)\n",
        "ax.set_xticklabels(names)\n",
        "plt.show()"
      ],
      "metadata": {
        "colab": {
          "base_uri": "https://localhost:8080/",
          "height": 582
        },
        "id": "x9fBnzCOha9M",
        "outputId": "5eef24cf-e8c3-45c6-82e9-926cfc4a3305"
      },
      "execution_count": null,
      "outputs": [
        {
          "output_type": "stream",
          "name": "stdout",
          "text": [
            "LR: MSE 7.70 (0.93) - RMSE 2.77\n",
            "Ridge: MSE 7.70 (0.93) - RMSE 2.77\n",
            "Lasso: MSE 9.17 (1.16) - RMSE 3.03\n",
            "KNN: MSE 8.98 (0.97) - RMSE 3.00\n",
            "CART: MSE 11.51 (0.69) - RMSE 3.39\n",
            "SVM: MSE 7.91 (1.07) - RMSE 2.81\n"
          ]
        },
        {
          "output_type": "display_data",
          "data": {
            "text/plain": [
              "<Figure size 640x480 with 1 Axes>"
            ],
            "image/png": "[encoded data removed]"
          },
          "metadata": {}
        }
      ]
    },
    {
      "cell_type": "code",
      "source": [
        "# Avaliando os modelos pelo R²\n",
        "for name, model in models:\n",
        "    # Calculando R²\n",
        "    r2 = cross_val_score(model, X_train, y_train, cv=kfold, scoring='r2').mean()\n",
        "\n",
        "    # Imprimindo o valor de R² para cada modelo\n",
        "    print(f\"{name}: R² {r2:.2f}\")"
      ],
      "metadata": {
        "colab": {
          "base_uri": "https://localhost:8080/"
        },
        "id": "DOz-1la2iajZ",
        "outputId": "c56eb08c-5127-46fc-8b7f-c9e9c31204ef"
      },
      "execution_count": null,
      "outputs": [
        {
          "output_type": "stream",
          "name": "stdout",
          "text": [
            "LR: R² 0.32\n",
            "Ridge: R² 0.32\n",
            "Lasso: R² 0.19\n",
            "KNN: R² 0.20\n",
            "CART: R² -0.03\n",
            "SVM: R² 0.30\n"
          ]
        }
      ]
    },
    {
      "cell_type": "markdown",
      "source": [
        "Observa-se que os modelos obtiveram resultados consideravelmente piores com a validação cruzada. Esse fato pode ser explicado pela grande variação existente no conjunto de dados e o \"baixo\" número de observações."
      ],
      "metadata": {
        "id": "be7jXqIy_kSB"
      }
    },
    {
      "cell_type": "markdown",
      "source": [
        "# **5 - Testando os melhores modelos**\n",
        "\n"
      ],
      "metadata": {
        "id": "KaHpcx9f_n-6"
      }
    },
    {
      "cell_type": "code",
      "source": [
        "# Criando um modelo com todo o conjunto de treino\n",
        "model = SVR()\n",
        "model.fit(X_train_df, y_train)\n",
        "\n",
        "# Fazendo as predições com o conjunto de teste\n",
        "predictions = model.predict(X_test_df)\n",
        "\n",
        "# Estimando o MSE e o RMSE no conjunto de teste\n",
        "mse = mean_squared_error(y_test, predictions)\n",
        "print(\"MSE %0.2f\" % mse)\n",
        "print(\"RMSE %0.2f\" % np.sqrt(abs(mse)))"
      ],
      "metadata": {
        "colab": {
          "base_uri": "https://localhost:8080/"
        },
        "id": "rUS10UBfldZj",
        "outputId": "95ed18c3-980f-4d86-aa05-0acfab72939b"
      },
      "execution_count": null,
      "outputs": [
        {
          "output_type": "stream",
          "name": "stdout",
          "text": [
            "MSE 12.62\n",
            "RMSE 3.55\n"
          ]
        }
      ]
    },
    {
      "cell_type": "markdown",
      "source": [
        "Observa-se um aumento bastante considerável do erro quando ajustamos o modelo SVM com dados normalizados ao conjunto de teste."
      ],
      "metadata": {
        "id": "xz8BVWTtQmtc"
      }
    },
    {
      "cell_type": "code",
      "source": [
        "# Criando um modelo com todo o conjunto de treino\n",
        "model = LinearRegression()\n",
        "model.fit(X_train, y_train)\n",
        "\n",
        "# Fazendo as predições com o conjunto de teste\n",
        "predictions = model.predict(X_test)\n",
        "\n",
        "# Estimando o MSE e o RMSE no conjunto de teste\n",
        "mse = mean_squared_error(y_test, predictions)\n",
        "print(\"MSE %0.2f\" % mse)\n",
        "print(\"RMSE %0.2f\" % np.sqrt(abs(mse)))"
      ],
      "metadata": {
        "colab": {
          "base_uri": "https://localhost:8080/"
        },
        "id": "oJBJVtLTQWLs",
        "outputId": "1876507d-7156-4374-e70d-244805f2dfbf"
      },
      "execution_count": null,
      "outputs": [
        {
          "output_type": "stream",
          "name": "stdout",
          "text": [
            "MSE 7.53\n",
            "RMSE 2.74\n"
          ]
        }
      ]
    },
    {
      "cell_type": "markdown",
      "source": [
        "No ajuste do modelo linear ao conjunto de teste dos dados originais também há um aumento no erro, mas em proporções menores."
      ],
      "metadata": {
        "id": "szwZOqiGQwwF"
      }
    },
    {
      "cell_type": "markdown",
      "source": [
        "# **6 - Conclusão**"
      ],
      "metadata": {
        "id": "oJraRbOfPdQw"
      }
    },
    {
      "cell_type": "markdown",
      "source": [
        "Os resultados demonstram o grande desafio que é a modelagem em florestas tropicais naturais. Por um lado, é difícil conseguir dados de mensuração, por outro seria necessário utilizar uma grande quantidade de dados para gerar bons modelos.\n",
        "\n",
        "A estimação da altura a partir do diâmetro foi testada com essa combinação de variáveis apresentada, assim como com outras combinações. Para tornar a apresentação dos resultados mais objetiva, optou-se por apresentar os resultados apenas para a combinação de variáveis que obteve os melhores resultados. Mesmo assim, os resultados podem ser considerados ruins e conclui-se que não foi possível gerar um bom modelo para estimar a altura total a partir de variáveis mais fáceis de se mensurar."
      ],
      "metadata": {
        "id": "T2ACiDEoPbPL"
      }
    }
  ]
}